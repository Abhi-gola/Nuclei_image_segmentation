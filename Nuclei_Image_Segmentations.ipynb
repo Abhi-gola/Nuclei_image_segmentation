{
  "cells": [
    {
      "cell_type": "code",
      "execution_count": 1,
      "metadata": {
        "colab": {
          "base_uri": "https://localhost:8080/",
          "height": 90
        },
        "id": "1pb9iUTc_fP4",
        "outputId": "8020d82e-ffcd-44b9-cfba-99492646480b"
      },
      "outputs": [
        {
          "output_type": "display_data",
          "data": {
            "text/plain": [
              "<IPython.core.display.HTML object>"
            ],
            "text/html": [
              "\n",
              "     <input type=\"file\" id=\"files-280a3abd-1ecc-458e-8fcf-50b6788ca7c5\" name=\"files[]\" multiple disabled\n",
              "        style=\"border:none\" />\n",
              "     <output id=\"result-280a3abd-1ecc-458e-8fcf-50b6788ca7c5\">\n",
              "      Upload widget is only available when the cell has been executed in the\n",
              "      current browser session. Please rerun this cell to enable.\n",
              "      </output>\n",
              "      <script>// Copyright 2017 Google LLC\n",
              "//\n",
              "// Licensed under the Apache License, Version 2.0 (the \"License\");\n",
              "// you may not use this file except in compliance with the License.\n",
              "// You may obtain a copy of the License at\n",
              "//\n",
              "//      http://www.apache.org/licenses/LICENSE-2.0\n",
              "//\n",
              "// Unless required by applicable law or agreed to in writing, software\n",
              "// distributed under the License is distributed on an \"AS IS\" BASIS,\n",
              "// WITHOUT WARRANTIES OR CONDITIONS OF ANY KIND, either express or implied.\n",
              "// See the License for the specific language governing permissions and\n",
              "// limitations under the License.\n",
              "\n",
              "/**\n",
              " * @fileoverview Helpers for google.colab Python module.\n",
              " */\n",
              "(function(scope) {\n",
              "function span(text, styleAttributes = {}) {\n",
              "  const element = document.createElement('span');\n",
              "  element.textContent = text;\n",
              "  for (const key of Object.keys(styleAttributes)) {\n",
              "    element.style[key] = styleAttributes[key];\n",
              "  }\n",
              "  return element;\n",
              "}\n",
              "\n",
              "// Max number of bytes which will be uploaded at a time.\n",
              "const MAX_PAYLOAD_SIZE = 100 * 1024;\n",
              "\n",
              "function _uploadFiles(inputId, outputId) {\n",
              "  const steps = uploadFilesStep(inputId, outputId);\n",
              "  const outputElement = document.getElementById(outputId);\n",
              "  // Cache steps on the outputElement to make it available for the next call\n",
              "  // to uploadFilesContinue from Python.\n",
              "  outputElement.steps = steps;\n",
              "\n",
              "  return _uploadFilesContinue(outputId);\n",
              "}\n",
              "\n",
              "// This is roughly an async generator (not supported in the browser yet),\n",
              "// where there are multiple asynchronous steps and the Python side is going\n",
              "// to poll for completion of each step.\n",
              "// This uses a Promise to block the python side on completion of each step,\n",
              "// then passes the result of the previous step as the input to the next step.\n",
              "function _uploadFilesContinue(outputId) {\n",
              "  const outputElement = document.getElementById(outputId);\n",
              "  const steps = outputElement.steps;\n",
              "\n",
              "  const next = steps.next(outputElement.lastPromiseValue);\n",
              "  return Promise.resolve(next.value.promise).then((value) => {\n",
              "    // Cache the last promise value to make it available to the next\n",
              "    // step of the generator.\n",
              "    outputElement.lastPromiseValue = value;\n",
              "    return next.value.response;\n",
              "  });\n",
              "}\n",
              "\n",
              "/**\n",
              " * Generator function which is called between each async step of the upload\n",
              " * process.\n",
              " * @param {string} inputId Element ID of the input file picker element.\n",
              " * @param {string} outputId Element ID of the output display.\n",
              " * @return {!Iterable<!Object>} Iterable of next steps.\n",
              " */\n",
              "function* uploadFilesStep(inputId, outputId) {\n",
              "  const inputElement = document.getElementById(inputId);\n",
              "  inputElement.disabled = false;\n",
              "\n",
              "  const outputElement = document.getElementById(outputId);\n",
              "  outputElement.innerHTML = '';\n",
              "\n",
              "  const pickedPromise = new Promise((resolve) => {\n",
              "    inputElement.addEventListener('change', (e) => {\n",
              "      resolve(e.target.files);\n",
              "    });\n",
              "  });\n",
              "\n",
              "  const cancel = document.createElement('button');\n",
              "  inputElement.parentElement.appendChild(cancel);\n",
              "  cancel.textContent = 'Cancel upload';\n",
              "  const cancelPromise = new Promise((resolve) => {\n",
              "    cancel.onclick = () => {\n",
              "      resolve(null);\n",
              "    };\n",
              "  });\n",
              "\n",
              "  // Wait for the user to pick the files.\n",
              "  const files = yield {\n",
              "    promise: Promise.race([pickedPromise, cancelPromise]),\n",
              "    response: {\n",
              "      action: 'starting',\n",
              "    }\n",
              "  };\n",
              "\n",
              "  cancel.remove();\n",
              "\n",
              "  // Disable the input element since further picks are not allowed.\n",
              "  inputElement.disabled = true;\n",
              "\n",
              "  if (!files) {\n",
              "    return {\n",
              "      response: {\n",
              "        action: 'complete',\n",
              "      }\n",
              "    };\n",
              "  }\n",
              "\n",
              "  for (const file of files) {\n",
              "    const li = document.createElement('li');\n",
              "    li.append(span(file.name, {fontWeight: 'bold'}));\n",
              "    li.append(span(\n",
              "        `(${file.type || 'n/a'}) - ${file.size} bytes, ` +\n",
              "        `last modified: ${\n",
              "            file.lastModifiedDate ? file.lastModifiedDate.toLocaleDateString() :\n",
              "                                    'n/a'} - `));\n",
              "    const percent = span('0% done');\n",
              "    li.appendChild(percent);\n",
              "\n",
              "    outputElement.appendChild(li);\n",
              "\n",
              "    const fileDataPromise = new Promise((resolve) => {\n",
              "      const reader = new FileReader();\n",
              "      reader.onload = (e) => {\n",
              "        resolve(e.target.result);\n",
              "      };\n",
              "      reader.readAsArrayBuffer(file);\n",
              "    });\n",
              "    // Wait for the data to be ready.\n",
              "    let fileData = yield {\n",
              "      promise: fileDataPromise,\n",
              "      response: {\n",
              "        action: 'continue',\n",
              "      }\n",
              "    };\n",
              "\n",
              "    // Use a chunked sending to avoid message size limits. See b/62115660.\n",
              "    let position = 0;\n",
              "    do {\n",
              "      const length = Math.min(fileData.byteLength - position, MAX_PAYLOAD_SIZE);\n",
              "      const chunk = new Uint8Array(fileData, position, length);\n",
              "      position += length;\n",
              "\n",
              "      const base64 = btoa(String.fromCharCode.apply(null, chunk));\n",
              "      yield {\n",
              "        response: {\n",
              "          action: 'append',\n",
              "          file: file.name,\n",
              "          data: base64,\n",
              "        },\n",
              "      };\n",
              "\n",
              "      let percentDone = fileData.byteLength === 0 ?\n",
              "          100 :\n",
              "          Math.round((position / fileData.byteLength) * 100);\n",
              "      percent.textContent = `${percentDone}% done`;\n",
              "\n",
              "    } while (position < fileData.byteLength);\n",
              "  }\n",
              "\n",
              "  // All done.\n",
              "  yield {\n",
              "    response: {\n",
              "      action: 'complete',\n",
              "    }\n",
              "  };\n",
              "}\n",
              "\n",
              "scope.google = scope.google || {};\n",
              "scope.google.colab = scope.google.colab || {};\n",
              "scope.google.colab._files = {\n",
              "  _uploadFiles,\n",
              "  _uploadFilesContinue,\n",
              "};\n",
              "})(self);\n",
              "</script> "
            ]
          },
          "metadata": {}
        },
        {
          "output_type": "stream",
          "name": "stdout",
          "text": [
            "Saving kaggle.json to kaggle.json\n"
          ]
        },
        {
          "output_type": "execute_result",
          "data": {
            "text/plain": [
              "{'kaggle.json': b'{\"username\":\"abhigola\",\"key\":\"ca6fc2f8cf690e8b1900886e54b83af9\"}'}"
            ]
          },
          "metadata": {},
          "execution_count": 1
        }
      ],
      "source": [
        "from google.colab import files\n",
        "files.upload()"
      ]
    },
    {
      "cell_type": "code",
      "execution_count": 2,
      "metadata": {
        "id": "bx0ZJ_aBADZ_"
      },
      "outputs": [],
      "source": [
        "! mkdir ~/.kaggle\n",
        "! cp kaggle.json ~/.kaggle/\n",
        "! chmod 600 ~/.kaggle/kaggle.json"
      ]
    },
    {
      "cell_type": "code",
      "execution_count": 3,
      "metadata": {
        "colab": {
          "base_uri": "https://localhost:8080/"
        },
        "id": "lbRDM31mAG4N",
        "outputId": "69b649d4-2e7b-4bb0-9751-e61a35dd1298"
      },
      "outputs": [
        {
          "output_type": "stream",
          "name": "stdout",
          "text": [
            "Downloading data-science-bowl-2018.zip to /content\n",
            " 96% 343M/358M [00:02<00:00, 209MB/s]\n",
            "100% 358M/358M [00:02<00:00, 170MB/s]\n"
          ]
        }
      ],
      "source": [
        "!kaggle competitions download -c data-science-bowl-2018"
      ]
    },
    {
      "cell_type": "code",
      "execution_count": 4,
      "metadata": {
        "id": "vdJ52QYQAMvH"
      },
      "outputs": [],
      "source": [
        "!mkdir stage1_train"
      ]
    },
    {
      "cell_type": "code",
      "execution_count": 5,
      "metadata": {
        "id": "sRZ1CasnAPmJ"
      },
      "outputs": [],
      "source": [
        "!mkdir dataset2018"
      ]
    },
    {
      "cell_type": "code",
      "execution_count": 6,
      "metadata": {
        "id": "2RWYq5M0ATqV"
      },
      "outputs": [],
      "source": [
        "import zipfile\n",
        "with zipfile.ZipFile('/content/data-science-bowl-2018.zip', 'r') as z:\n",
        "  z.extractall('/content/dataset2018')"
      ]
    },
    {
      "cell_type": "code",
      "execution_count": 7,
      "metadata": {
        "id": "6UnmN9HzAW9I"
      },
      "outputs": [],
      "source": [
        "import zipfile\n",
        "with zipfile.ZipFile('/content/dataset2018/stage1_train.zip', 'r') as z:\n",
        "  z.extractall('/content/stage1_train')"
      ]
    },
    {
      "cell_type": "code",
      "execution_count": 8,
      "metadata": {
        "id": "KZzXqri5AaSW"
      },
      "outputs": [],
      "source": [
        "!mkdir stage1_test"
      ]
    },
    {
      "cell_type": "code",
      "execution_count": 9,
      "metadata": {
        "id": "cYWfqbUVAdqq"
      },
      "outputs": [],
      "source": [
        "with zipfile.ZipFile('/content/dataset2018/stage1_test.zip', 'r') as z:\n",
        "  z.extractall('/content/stage1_test')"
      ]
    },
    {
      "cell_type": "code",
      "execution_count": 10,
      "metadata": {
        "colab": {
          "base_uri": "https://localhost:8080/"
        },
        "id": "7iZs6wH1LYtn",
        "outputId": "914f857e-8acd-4ed4-f099-8e48050919ca"
      },
      "outputs": [
        {
          "output_type": "stream",
          "name": "stderr",
          "text": [
            "<ipython-input-10-c654bed6706a>:34: DeprecationWarning: `np.bool` is a deprecated alias for the builtin `bool`. To silence this warning, use `bool` by itself. Doing this will not modify any behavior and is safe. If you specifically wanted the numpy scalar type, use `np.bool_` here.\n",
            "Deprecated in NumPy 1.20; for more details and guidance: https://numpy.org/devdocs/release/1.20.0-notes.html#deprecations\n",
            "  y_train = np.zeros((len(train_ids), height, width, 1), dtype=np.bool)\n",
            "<ipython-input-10-c654bed6706a>:52: DeprecationWarning: `np.bool` is a deprecated alias for the builtin `bool`. To silence this warning, use `bool` by itself. Doing this will not modify any behavior and is safe. If you specifically wanted the numpy scalar type, use `np.bool_` here.\n",
            "Deprecated in NumPy 1.20; for more details and guidance: https://numpy.org/devdocs/release/1.20.0-notes.html#deprecations\n",
            "  mask_placeholder = np.zeros((width, height, 1), dtype=np.bool)\n"
          ]
        }
      ],
      "source": [
        "import os\n",
        "import sys\n",
        "import random\n",
        "import warnings\n",
        "\n",
        "import numpy as np\n",
        "import pandas as pd\n",
        "import cv2\n",
        "import pickle\n",
        "\n",
        "import matplotlib.pyplot as plt\n",
        "from sklearn.model_selection import train_test_split\n",
        "\n",
        "from skimage.io import imread, imshow, imread_collection, concatenate_images\n",
        "from skimage.transform import resize\n",
        "\n",
        "\n",
        "import tensorflow as tf\n",
        "\n",
        "\n",
        "# set the dimensions of the images\n",
        "width = 128\n",
        "height= 128\n",
        "channels= 3\n",
        "train_path = '/content/stage1_train/'\n",
        "test_path = '/content/stage1_test/'\n",
        "\n",
        "# get id's of folders holding each image\n",
        "train_ids = os.listdir(train_path)\n",
        "test_ids = os.listdir(test_path)\n",
        "\n",
        "# set the dimensions of X_train list\n",
        "X_train = np.zeros((len(train_ids), height, width, channels), dtype=np.uint8)\n",
        "y_train = np.zeros((len(train_ids), height, width, 1), dtype=np.bool)\n",
        "\n",
        "def get_data():\n",
        "    global X_train, y_train\n",
        "    # get training data\n",
        "    for n, train_id in enumerate(train_ids):\n",
        "        root_path = os.path.join(train_path + train_id)\n",
        "\n",
        "        img_path = os.path.join(root_path + '/images/')\n",
        "        mask_path = os.path.join(root_path + '/masks/')\n",
        "\n",
        "        img_train = imread(img_path + train_id + '.png', as_gray=False)[:,:,:channels]\n",
        "\n",
        "        img_train = resize(img_train, (height, width), preserve_range=True, mode='constant').astype(np.uint8)\n",
        "        img_train= np.expand_dims(img_train, axis=0)\n",
        "\n",
        "        X_train[n] = img_train\n",
        "\n",
        "        mask_placeholder = np.zeros((width, height, 1), dtype=np.bool)\n",
        "\n",
        "        for mask in os.listdir(mask_path):\n",
        "            mask_ = imread(mask_path + mask)\n",
        "            mask_ = resize(mask_, (height, width), preserve_range=True, mode='constant')\n",
        "            mask_ = np.expand_dims(mask_, axis=-1)\n",
        "\n",
        "            mask_placeholder = np.maximum(mask_placeholder, mask_)\n",
        "\n",
        "        y_train[n] = mask_placeholder\n",
        "\n",
        "    # get testing data\n",
        "    X_test = np.zeros((len(test_ids), height, width, channels), dtype=np.uint8)\n",
        "\n",
        "    for n, test_id in enumerate(test_ids):\n",
        "        root_path = os.path.join(test_path + test_id)\n",
        "\n",
        "        img_path = os.path.join(root_path + '/images/')\n",
        "\n",
        "        img_test = imread(img_path + test_id + '.png', as_gray=False)[:,:,:channels]\n",
        "        img_test = resize(img_test, (height, width), preserve_range=True, mode='constant').astype(np.uint8)\n",
        "\n",
        "        X_test[n] = img_test\n",
        "\n",
        "    # create training set & validation set\n",
        "    X_train, X_validation = train_test_split(X_train, test_size=0.1, random_state=42, shuffle=False)\n",
        "\n",
        "    y_train, y_validation = train_test_split(y_train, test_size=0.1, random_state=42, shuffle=False)\n",
        "\n",
        "\n",
        "    return X_train, y_train, X_validation, y_validation, X_test\n",
        "\n",
        "\n",
        "if __name__ == '__main__':\n",
        "   X_train, y_train, X_validation, y_validation, X_test = get_data()"
      ]
    },
    {
      "cell_type": "code",
      "execution_count": 11,
      "metadata": {
        "colab": {
          "base_uri": "https://localhost:8080/",
          "height": 583
        },
        "id": "wsQCPC_jAl0Y",
        "outputId": "9eccb1ee-73c2-4777-c1df-0f48e75ca06d"
      },
      "outputs": [
        {
          "output_type": "display_data",
          "data": {
            "text/plain": [
              "<Figure size 432x288 with 1 Axes>"
            ],
            "image/png": "[encoded data removed]"
          },
          "metadata": {
            "needs_background": "light"
          }
        },
        {
          "output_type": "stream",
          "name": "stdout",
          "text": [
            "(128, 128, 1)\n",
            "(128, 128)\n"
          ]
        },
        {
          "output_type": "display_data",
          "data": {
            "text/plain": [
              "<Figure size 432x288 with 1 Axes>"
            ],
            "image/png": "[encoded data removed]"
          },
          "metadata": {
            "needs_background": "light"
          }
        }
      ],
      "source": [
        "image_x = random.randint(0, 603)\n",
        "imshow(X_train[image_x])\n",
        "plt.show()\n",
        "print(y_train[image_x].shape)\n",
        "print(np.squeeze(y_train[image_x]).shape)\n",
        "plt.imshow(np.squeeze(y_train[image_x]))\n",
        "plt.show()"
      ]
    },
    {
      "cell_type": "code",
      "execution_count": 12,
      "metadata": {
        "id": "pNHmRRXEApV-"
      },
      "outputs": [],
      "source": [
        "def avg_precision(y_true, y_pred):\n",
        "  y_true_f = K.flatten(y_true)\n",
        "  y_pred_f = K.flatten(y_pred)\n",
        "  intersection = K.sum(y_true_f*y_pred_f)\n",
        "\n",
        "  return intersection/K.sum(y_pred_f)"
      ]
    },
    {
      "cell_type": "code",
      "execution_count": 13,
      "metadata": {
        "id": "_l3HMZufAsqL"
      },
      "outputs": [],
      "source": [
        "def jaccard_iou(y_true, y_pred):\n",
        "  y_true_f = K.flatten(y_true)\n",
        "  y_pred_f = K.flatten(y_pred)\n",
        "  intersection = K.sum(y_true_f*y_pred_f)\n",
        "\n",
        "  return (intersection)/(K.sum(y_true_f)+K.sum(y_pred_f)-intersection)\n",
        "\n",
        "def jaccard_F1(y_true, y_pred):\n",
        "  y_true_f = K.flatten(y_true)\n",
        "  y_pred_f = K.flatten(y_pred)\n",
        "  intersection = K.sum(y_true_f*y_pred_f)\n",
        "  return (2*intersection)/(K.sum(y_true_f)+K.sum(y_pred_f))\n"
      ]
    },
    {
      "cell_type": "code",
      "source": [
        "import tensorflow as tf\n",
        "from tensorflow import keras\n",
        "from keras.layers import BatchNormalization, Activation\n",
        "from keras.models import Model, load_model\n",
        "from keras.layers import Input, AvgPool2D\n",
        "from keras.layers.core import Dropout, Lambda\n",
        "from keras.layers.convolutional import Conv2D, Conv2DTranspose\n",
        "from keras.layers.pooling import MaxPooling2D\n",
        "from keras.layers import *\n",
        "from keras.callbacks import EarlyStopping, ModelCheckpoint\n",
        "from keras import backend as K"
      ],
      "metadata": {
        "id": "nbnSEXgVHgAI"
      },
      "execution_count": 15,
      "outputs": []
    },
    {
      "cell_type": "code",
      "source": [
        "dropout_rate = 0.5\n",
        "\n",
        "def conv_batchnorm_relu_block(input_tensor, nb_filter, kernel_size=3):\n",
        "\n",
        "    x = Conv2D(nb_filter, (kernel_size, kernel_size), padding='same')(input_tensor)\n",
        "    x = BatchNormalization(axis=2)(x)\n",
        "    x = Activation('relu')(x)\n",
        "\n",
        "    return x\n",
        "\n",
        "\n",
        "def model_build_func(x_train, y_train):\n",
        "\n",
        "    nb_filter = [32,64,128,256,512]\n",
        "\n",
        "    # Set image data format to channels first\n",
        "    global bn_axis\n",
        "\n",
        "    K.set_image_data_format(\"channels_last\")\n",
        "    bn_axis = -1\n",
        "    inputs = Input(shape=(128,128,3), name='input_image')\n",
        "\n",
        "    conv1_1 = conv_batchnorm_relu_block(inputs, nb_filter=nb_filter[0])\n",
        "    pool1 = AvgPool2D((2, 2), strides=(2, 2), name='pool1')(conv1_1)\n",
        "\n",
        "    conv2_1 = conv_batchnorm_relu_block(pool1, nb_filter=nb_filter[1])\n",
        "    pool2 = AvgPool2D((2, 2), strides=(2, 2), name='pool2')(conv2_1)\n",
        "\n",
        "    up1_2 = Conv2DTranspose(nb_filter[0], (2, 2), strides=(2, 2), name='up12', padding='same')(conv2_1)\n",
        "    conv1_2 = concatenate([up1_2, conv1_1], name='merge12', axis=bn_axis)\n",
        "    conv1_2 = conv_batchnorm_relu_block(conv1_2,  nb_filter=nb_filter[0])\n",
        "\n",
        "    conv3_1 = conv_batchnorm_relu_block(pool2, nb_filter=nb_filter[2])\n",
        "    pool3 = AvgPool2D((2, 2), strides=(2, 2), name='pool3')(conv3_1)\n",
        "\n",
        "    up2_2 = Conv2DTranspose(nb_filter[1], (2, 2), strides=(2, 2), name='up22', padding='same')(conv3_1)\n",
        "    conv2_2 = concatenate([up2_2, conv2_1], name='merge22', axis=bn_axis)\n",
        "    conv2_2 = conv_batchnorm_relu_block(conv2_2, nb_filter=nb_filter[1])\n",
        "\n",
        "    up1_3 = Conv2DTranspose(nb_filter[0], (2, 2), strides=(2, 2), name='up13', padding='same')(conv2_2)\n",
        "    conv1_3 = concatenate([up1_3, conv1_1, conv1_2], name='merge13', axis=bn_axis)\n",
        "    conv1_3 = conv_batchnorm_relu_block(conv1_3, nb_filter=nb_filter[0])\n",
        "\n",
        "    conv4_1 = conv_batchnorm_relu_block(pool3, nb_filter=nb_filter[3])\n",
        "    pool4 = AvgPool2D((2, 2), strides=(2, 2), name='pool4')(conv4_1)\n",
        "\n",
        "    up3_2 = Conv2DTranspose(nb_filter[2], (2, 2), strides=(2, 2), name='up32', padding='same')(conv4_1)\n",
        "    conv3_2 = concatenate([up3_2, conv3_1], name='merge32', axis=bn_axis)\n",
        "    conv3_2 = conv_batchnorm_relu_block(conv3_2, nb_filter=nb_filter[2])\n",
        "\n",
        "    up2_3 = Conv2DTranspose(nb_filter[1], (2, 2), strides=(2, 2), name='up23', padding='same')(conv3_2)\n",
        "    conv2_3 = concatenate([up2_3, conv2_1, conv2_2], name='merge23', axis=bn_axis)\n",
        "    conv2_3 = conv_batchnorm_relu_block(conv2_3, nb_filter=nb_filter[1])\n",
        "\n",
        "    up1_4 = Conv2DTranspose(nb_filter[0], (2, 2), strides=(2, 2), name='up14', padding='same')(conv2_3)\n",
        "    conv1_4 = concatenate([up1_4, conv1_1, conv1_2, conv1_3], name='merge14', axis=bn_axis)\n",
        "    conv1_4 = conv_batchnorm_relu_block(conv1_4, nb_filter=nb_filter[0])\n",
        "\n",
        "    conv5_1 = conv_batchnorm_relu_block(pool4, nb_filter=nb_filter[4])\n",
        "\n",
        "    up4_2 = Conv2DTranspose(nb_filter[3], (2, 2), strides=(2, 2), name='up42', padding='same')(conv5_1)\n",
        "    conv4_2 = concatenate([up4_2, conv4_1], name='merge42', axis=bn_axis)\n",
        "    conv4_2 = conv_batchnorm_relu_block(conv4_2, nb_filter=nb_filter[3])\n",
        "\n",
        "    up3_3 = Conv2DTranspose(nb_filter[2], (2, 2), strides=(2, 2), name='up33', padding='same')(conv4_2)\n",
        "    conv3_3 = concatenate([up3_3, conv3_1, conv3_2], name='merge33', axis=bn_axis)\n",
        "    conv3_3 = conv_batchnorm_relu_block(conv3_3, nb_filter=nb_filter[2])\n",
        "\n",
        "    up2_4 = Conv2DTranspose(nb_filter[1], (2, 2), strides=(2, 2), name='up24', padding='same')(conv3_3)\n",
        "    conv2_4 = concatenate([up2_4, conv2_1, conv2_2, conv2_3], name='merge24', axis=bn_axis)\n",
        "    conv2_4 = conv_batchnorm_relu_block(conv2_4, nb_filter=nb_filter[1])\n",
        "\n",
        "    up1_5 = Conv2DTranspose(nb_filter[0], (2, 2), strides=(2, 2), name='up15', padding='same')(conv2_4)\n",
        "    conv1_5 = concatenate([up1_5, conv1_1, conv1_2, conv1_3, conv1_4], name='merge15', axis=bn_axis)\n",
        "    conv1_5 = conv_batchnorm_relu_block(conv1_5, nb_filter=nb_filter[0])\n",
        "\n",
        "    nestnet_output_1 = Conv2D(1, (1, 1), activation='sigmoid', name='output_1',padding='same')(conv1_2)\n",
        "    nestnet_output_2 = Conv2D(1, (1, 1), activation='sigmoid', name='output_2', padding='same' )(conv1_3)\n",
        "    nestnet_output_3 = Conv2D(1, (1, 1), activation='sigmoid', name='output_3', padding='same')(conv1_4)\n",
        "    nestnet_output_4 = Conv2D(1, (1, 1), activation='sigmoid', name='output_4', padding='same')(conv1_5)\n",
        "\n",
        "    model = Model(inputs=inputs, outputs=nestnet_output_4)\n",
        "\n",
        "    return model\n",
        "model = model_build_func(X_train, y_train)\n",
        "model.compile(optimizer='adam', loss='binary_crossentropy', metrics=['acc', jaccard_iou, jaccard_F1, avg_precision])\n",
        "stop_run = EarlyStopping(patience=8, verbose=1)\n",
        "checkpoint_model = ModelCheckpoint('my_unet.h5', verbose=1, save_best_only=True)\n",
        "\n",
        "results = model.fit(X_train, y_train, validation_split=0.1, batch_size=16, epochs=50, callbacks=[stop_run, checkpoint_model])\n",
        "\n",
        "model.save(\"my_UNET.h5\")"
      ],
      "metadata": {
        "id": "4UtMgK06Nc8l",
        "colab": {
          "base_uri": "https://localhost:8080/"
        },
        "outputId": "d0dcd088-0dd4-4bf7-95c0-dea142528fbd"
      },
      "execution_count": 16,
      "outputs": [
        {
          "output_type": "stream",
          "name": "stdout",
          "text": [
            "Epoch 1/50\n",
            "34/34 [==============================] - ETA: 0s - loss: 0.4512 - acc: 0.7901 - jaccard_iou: 0.1776 - jaccard_F1: 0.2999 - avg_precision: 0.3071\n",
            "Epoch 1: val_loss improved from inf to 0.62787, saving model to my_unet.h5\n",
            "34/34 [==============================] - 30s 408ms/step - loss: 0.4512 - acc: 0.7901 - jaccard_iou: 0.1776 - jaccard_F1: 0.2999 - avg_precision: 0.3071 - val_loss: 0.6279 - val_acc: 0.7998 - val_jaccard_iou: 0.1252 - val_jaccard_F1: 0.2221 - val_avg_precision: 0.1853\n",
            "Epoch 2/50\n",
            "34/34 [==============================] - ETA: 0s - loss: 0.3340 - acc: 0.8562 - jaccard_iou: 0.2919 - jaccard_F1: 0.4480 - avg_precision: 0.4866\n",
            "Epoch 2: val_loss did not improve from 0.62787\n",
            "34/34 [==============================] - 7s 199ms/step - loss: 0.3340 - acc: 0.8562 - jaccard_iou: 0.2919 - jaccard_F1: 0.4480 - avg_precision: 0.4866 - val_loss: 0.6971 - val_acc: 0.8314 - val_jaccard_iou: 0.1792 - val_jaccard_F1: 0.3031 - val_avg_precision: 0.3618\n",
            "Epoch 3/50\n",
            "34/34 [==============================] - ETA: 0s - loss: 0.2187 - acc: 0.9148 - jaccard_iou: 0.4883 - jaccard_F1: 0.6527 - avg_precision: 0.6565\n",
            "Epoch 3: val_loss improved from 0.62787 to 0.24084, saving model to my_unet.h5\n",
            "34/34 [==============================] - 7s 209ms/step - loss: 0.2187 - acc: 0.9148 - jaccard_iou: 0.4883 - jaccard_F1: 0.6527 - avg_precision: 0.6565 - val_loss: 0.2408 - val_acc: 0.9242 - val_jaccard_iou: 0.4262 - val_jaccard_F1: 0.5973 - val_avg_precision: 0.5918\n",
            "Epoch 4/50\n",
            "34/34 [==============================] - ETA: 0s - loss: 0.1570 - acc: 0.9411 - jaccard_iou: 0.6022 - jaccard_F1: 0.7502 - avg_precision: 0.7562\n",
            "Epoch 4: val_loss improved from 0.24084 to 0.15412, saving model to my_unet.h5\n",
            "34/34 [==============================] - 7s 209ms/step - loss: 0.1570 - acc: 0.9411 - jaccard_iou: 0.6022 - jaccard_F1: 0.7502 - avg_precision: 0.7562 - val_loss: 0.1541 - val_acc: 0.9501 - val_jaccard_iou: 0.5603 - val_jaccard_F1: 0.7179 - val_avg_precision: 0.7519\n",
            "Epoch 5/50\n",
            "34/34 [==============================] - ETA: 0s - loss: 0.1258 - acc: 0.9539 - jaccard_iou: 0.6794 - jaccard_F1: 0.8086 - avg_precision: 0.8048\n",
            "Epoch 5: val_loss improved from 0.15412 to 0.13004, saving model to my_unet.h5\n",
            "34/34 [==============================] - 7s 211ms/step - loss: 0.1258 - acc: 0.9539 - jaccard_iou: 0.6794 - jaccard_F1: 0.8086 - avg_precision: 0.8048 - val_loss: 0.1300 - val_acc: 0.9581 - val_jaccard_iou: 0.6312 - val_jaccard_F1: 0.7734 - val_avg_precision: 0.7532\n",
            "Epoch 6/50\n",
            "34/34 [==============================] - ETA: 0s - loss: 0.1126 - acc: 0.9575 - jaccard_iou: 0.7114 - jaccard_F1: 0.8307 - avg_precision: 0.8356\n",
            "Epoch 6: val_loss improved from 0.13004 to 0.11455, saving model to my_unet.h5\n",
            "34/34 [==============================] - 7s 212ms/step - loss: 0.1126 - acc: 0.9575 - jaccard_iou: 0.7114 - jaccard_F1: 0.8307 - avg_precision: 0.8356 - val_loss: 0.1145 - val_acc: 0.9598 - val_jaccard_iou: 0.6807 - val_jaccard_F1: 0.8096 - val_avg_precision: 0.8399\n",
            "Epoch 7/50\n",
            "34/34 [==============================] - ETA: 0s - loss: 0.1184 - acc: 0.9566 - jaccard_iou: 0.7096 - jaccard_F1: 0.8295 - avg_precision: 0.8324\n",
            "Epoch 7: val_loss improved from 0.11455 to 0.10911, saving model to my_unet.h5\n",
            "34/34 [==============================] - 7s 213ms/step - loss: 0.1184 - acc: 0.9566 - jaccard_iou: 0.7096 - jaccard_F1: 0.8295 - avg_precision: 0.8324 - val_loss: 0.1091 - val_acc: 0.9630 - val_jaccard_iou: 0.7039 - val_jaccard_F1: 0.8256 - val_avg_precision: 0.8189\n",
            "Epoch 8/50\n",
            "34/34 [==============================] - ETA: 0s - loss: 0.1009 - acc: 0.9627 - jaccard_iou: 0.7389 - jaccard_F1: 0.8493 - avg_precision: 0.8475\n",
            "Epoch 8: val_loss improved from 0.10911 to 0.09283, saving model to my_unet.h5\n",
            "34/34 [==============================] - 7s 215ms/step - loss: 0.1009 - acc: 0.9627 - jaccard_iou: 0.7389 - jaccard_F1: 0.8493 - avg_precision: 0.8475 - val_loss: 0.0928 - val_acc: 0.9664 - val_jaccard_iou: 0.7510 - val_jaccard_F1: 0.8571 - val_avg_precision: 0.8687\n",
            "Epoch 9/50\n",
            "34/34 [==============================] - ETA: 0s - loss: 0.0937 - acc: 0.9645 - jaccard_iou: 0.7570 - jaccard_F1: 0.8614 - avg_precision: 0.8547\n",
            "Epoch 9: val_loss did not improve from 0.09283\n",
            "34/34 [==============================] - 7s 206ms/step - loss: 0.0937 - acc: 0.9645 - jaccard_iou: 0.7570 - jaccard_F1: 0.8614 - avg_precision: 0.8547 - val_loss: 0.0983 - val_acc: 0.9640 - val_jaccard_iou: 0.7632 - val_jaccard_F1: 0.8652 - val_avg_precision: 0.9084\n",
            "Epoch 10/50\n",
            "34/34 [==============================] - ETA: 0s - loss: 0.0957 - acc: 0.9633 - jaccard_iou: 0.7548 - jaccard_F1: 0.8598 - avg_precision: 0.8656\n",
            "Epoch 10: val_loss did not improve from 0.09283\n",
            "34/34 [==============================] - 7s 212ms/step - loss: 0.0957 - acc: 0.9633 - jaccard_iou: 0.7548 - jaccard_F1: 0.8598 - avg_precision: 0.8656 - val_loss: 0.1108 - val_acc: 0.9584 - val_jaccard_iou: 0.7438 - val_jaccard_F1: 0.8529 - val_avg_precision: 0.9263\n",
            "Epoch 11/50\n",
            "34/34 [==============================] - ETA: 0s - loss: 0.0924 - acc: 0.9647 - jaccard_iou: 0.7622 - jaccard_F1: 0.8648 - avg_precision: 0.8631\n",
            "Epoch 11: val_loss improved from 0.09283 to 0.09036, saving model to my_unet.h5\n",
            "34/34 [==============================] - 7s 220ms/step - loss: 0.0924 - acc: 0.9647 - jaccard_iou: 0.7622 - jaccard_F1: 0.8648 - avg_precision: 0.8631 - val_loss: 0.0904 - val_acc: 0.9648 - val_jaccard_iou: 0.7796 - val_jaccard_F1: 0.8755 - val_avg_precision: 0.8741\n",
            "Epoch 12/50\n",
            "34/34 [==============================] - ETA: 0s - loss: 0.0858 - acc: 0.9671 - jaccard_iou: 0.7783 - jaccard_F1: 0.8751 - avg_precision: 0.8734\n",
            "Epoch 12: val_loss improved from 0.09036 to 0.08561, saving model to my_unet.h5\n",
            "34/34 [==============================] - 7s 216ms/step - loss: 0.0858 - acc: 0.9671 - jaccard_iou: 0.7783 - jaccard_F1: 0.8751 - avg_precision: 0.8734 - val_loss: 0.0856 - val_acc: 0.9663 - val_jaccard_iou: 0.7898 - val_jaccard_F1: 0.8821 - val_avg_precision: 0.8700\n",
            "Epoch 13/50\n",
            "34/34 [==============================] - ETA: 0s - loss: 0.0868 - acc: 0.9667 - jaccard_iou: 0.7718 - jaccard_F1: 0.8709 - avg_precision: 0.8698\n",
            "Epoch 13: val_loss improved from 0.08561 to 0.08158, saving model to my_unet.h5\n",
            "34/34 [==============================] - 7s 215ms/step - loss: 0.0868 - acc: 0.9667 - jaccard_iou: 0.7718 - jaccard_F1: 0.8709 - avg_precision: 0.8698 - val_loss: 0.0816 - val_acc: 0.9687 - val_jaccard_iou: 0.7974 - val_jaccard_F1: 0.8870 - val_avg_precision: 0.8964\n",
            "Epoch 14/50\n",
            "34/34 [==============================] - ETA: 0s - loss: 0.0835 - acc: 0.9680 - jaccard_iou: 0.7833 - jaccard_F1: 0.8782 - avg_precision: 0.8741\n",
            "Epoch 14: val_loss did not improve from 0.08158\n",
            "34/34 [==============================] - 7s 206ms/step - loss: 0.0835 - acc: 0.9680 - jaccard_iou: 0.7833 - jaccard_F1: 0.8782 - avg_precision: 0.8741 - val_loss: 0.0830 - val_acc: 0.9678 - val_jaccard_iou: 0.7931 - val_jaccard_F1: 0.8843 - val_avg_precision: 0.9118\n",
            "Epoch 15/50\n",
            "34/34 [==============================] - ETA: 0s - loss: 0.0829 - acc: 0.9682 - jaccard_iou: 0.7836 - jaccard_F1: 0.8784 - avg_precision: 0.8804\n",
            "Epoch 15: val_loss did not improve from 0.08158\n",
            "34/34 [==============================] - 7s 205ms/step - loss: 0.0829 - acc: 0.9682 - jaccard_iou: 0.7836 - jaccard_F1: 0.8784 - avg_precision: 0.8804 - val_loss: 0.0839 - val_acc: 0.9662 - val_jaccard_iou: 0.7994 - val_jaccard_F1: 0.8882 - val_avg_precision: 0.8734\n",
            "Epoch 16/50\n",
            "34/34 [==============================] - ETA: 0s - loss: 0.0845 - acc: 0.9674 - jaccard_iou: 0.7801 - jaccard_F1: 0.8762 - avg_precision: 0.8733\n",
            "Epoch 16: val_loss did not improve from 0.08158\n",
            "34/34 [==============================] - 7s 205ms/step - loss: 0.0845 - acc: 0.9674 - jaccard_iou: 0.7801 - jaccard_F1: 0.8762 - avg_precision: 0.8733 - val_loss: 0.0830 - val_acc: 0.9687 - val_jaccard_iou: 0.7772 - val_jaccard_F1: 0.8742 - val_avg_precision: 0.8477\n",
            "Epoch 17/50\n",
            "34/34 [==============================] - ETA: 0s - loss: 0.0841 - acc: 0.9677 - jaccard_iou: 0.7837 - jaccard_F1: 0.8783 - avg_precision: 0.8819\n",
            "Epoch 17: val_loss improved from 0.08158 to 0.07928, saving model to my_unet.h5\n",
            "34/34 [==============================] - 7s 216ms/step - loss: 0.0841 - acc: 0.9677 - jaccard_iou: 0.7837 - jaccard_F1: 0.8783 - avg_precision: 0.8819 - val_loss: 0.0793 - val_acc: 0.9676 - val_jaccard_iou: 0.8089 - val_jaccard_F1: 0.8941 - val_avg_precision: 0.8842\n",
            "Epoch 18/50\n",
            "34/34 [==============================] - ETA: 0s - loss: 0.0905 - acc: 0.9655 - jaccard_iou: 0.7653 - jaccard_F1: 0.8666 - avg_precision: 0.8665\n",
            "Epoch 18: val_loss did not improve from 0.07928\n",
            "34/34 [==============================] - 7s 218ms/step - loss: 0.0905 - acc: 0.9655 - jaccard_iou: 0.7653 - jaccard_F1: 0.8666 - avg_precision: 0.8665 - val_loss: 0.0918 - val_acc: 0.9649 - val_jaccard_iou: 0.7877 - val_jaccard_F1: 0.8811 - val_avg_precision: 0.9288\n",
            "Epoch 19/50\n",
            "34/34 [==============================] - ETA: 0s - loss: 0.0810 - acc: 0.9685 - jaccard_iou: 0.7868 - jaccard_F1: 0.8801 - avg_precision: 0.8799\n",
            "Epoch 19: val_loss did not improve from 0.07928\n",
            "34/34 [==============================] - 7s 207ms/step - loss: 0.0810 - acc: 0.9685 - jaccard_iou: 0.7868 - jaccard_F1: 0.8801 - avg_precision: 0.8799 - val_loss: 0.0873 - val_acc: 0.9676 - val_jaccard_iou: 0.8020 - val_jaccard_F1: 0.8899 - val_avg_precision: 0.9086\n",
            "Epoch 20/50\n",
            "34/34 [==============================] - ETA: 0s - loss: 0.0862 - acc: 0.9670 - jaccard_iou: 0.7816 - jaccard_F1: 0.8771 - avg_precision: 0.8759\n",
            "Epoch 20: val_loss improved from 0.07928 to 0.07650, saving model to my_unet.h5\n",
            "34/34 [==============================] - 7s 215ms/step - loss: 0.0862 - acc: 0.9670 - jaccard_iou: 0.7816 - jaccard_F1: 0.8771 - avg_precision: 0.8759 - val_loss: 0.0765 - val_acc: 0.9689 - val_jaccard_iou: 0.8077 - val_jaccard_F1: 0.8934 - val_avg_precision: 0.8934\n",
            "Epoch 21/50\n",
            "34/34 [==============================] - ETA: 0s - loss: 0.0814 - acc: 0.9686 - jaccard_iou: 0.7913 - jaccard_F1: 0.8832 - avg_precision: 0.8859\n",
            "Epoch 21: val_loss did not improve from 0.07650\n",
            "34/34 [==============================] - 7s 206ms/step - loss: 0.0814 - acc: 0.9686 - jaccard_iou: 0.7913 - jaccard_F1: 0.8832 - avg_precision: 0.8859 - val_loss: 0.0923 - val_acc: 0.9660 - val_jaccard_iou: 0.7990 - val_jaccard_F1: 0.8881 - val_avg_precision: 0.9419\n",
            "Epoch 22/50\n",
            "34/34 [==============================] - ETA: 0s - loss: 0.0841 - acc: 0.9676 - jaccard_iou: 0.7817 - jaccard_F1: 0.8770 - avg_precision: 0.8752\n",
            "Epoch 22: val_loss improved from 0.07650 to 0.07479, saving model to my_unet.h5\n",
            "34/34 [==============================] - 7s 216ms/step - loss: 0.0841 - acc: 0.9676 - jaccard_iou: 0.7817 - jaccard_F1: 0.8770 - avg_precision: 0.8752 - val_loss: 0.0748 - val_acc: 0.9697 - val_jaccard_iou: 0.8037 - val_jaccard_F1: 0.8909 - val_avg_precision: 0.8914\n",
            "Epoch 23/50\n",
            "34/34 [==============================] - ETA: 0s - loss: 0.0848 - acc: 0.9677 - jaccard_iou: 0.7833 - jaccard_F1: 0.8781 - avg_precision: 0.8789\n",
            "Epoch 23: val_loss did not improve from 0.07479\n",
            "34/34 [==============================] - 7s 207ms/step - loss: 0.0848 - acc: 0.9677 - jaccard_iou: 0.7833 - jaccard_F1: 0.8781 - avg_precision: 0.8789 - val_loss: 0.0915 - val_acc: 0.9625 - val_jaccard_iou: 0.7811 - val_jaccard_F1: 0.8768 - val_avg_precision: 0.8361\n",
            "Epoch 24/50\n",
            "34/34 [==============================] - ETA: 0s - loss: 0.0816 - acc: 0.9684 - jaccard_iou: 0.7862 - jaccard_F1: 0.8800 - avg_precision: 0.8815\n",
            "Epoch 24: val_loss did not improve from 0.07479\n",
            "34/34 [==============================] - 7s 210ms/step - loss: 0.0816 - acc: 0.9684 - jaccard_iou: 0.7862 - jaccard_F1: 0.8800 - avg_precision: 0.8815 - val_loss: 0.0790 - val_acc: 0.9690 - val_jaccard_iou: 0.8056 - val_jaccard_F1: 0.8921 - val_avg_precision: 0.9045\n",
            "Epoch 25/50\n",
            "34/34 [==============================] - ETA: 0s - loss: 0.0784 - acc: 0.9694 - jaccard_iou: 0.7924 - jaccard_F1: 0.8838 - avg_precision: 0.8825\n",
            "Epoch 25: val_loss did not improve from 0.07479\n",
            "34/34 [==============================] - 7s 206ms/step - loss: 0.0784 - acc: 0.9694 - jaccard_iou: 0.7924 - jaccard_F1: 0.8838 - avg_precision: 0.8825 - val_loss: 0.0752 - val_acc: 0.9691 - val_jaccard_iou: 0.8104 - val_jaccard_F1: 0.8950 - val_avg_precision: 0.8935\n",
            "Epoch 26/50\n",
            "34/34 [==============================] - ETA: 0s - loss: 0.0764 - acc: 0.9703 - jaccard_iou: 0.7995 - jaccard_F1: 0.8883 - avg_precision: 0.8863\n",
            "Epoch 26: val_loss improved from 0.07479 to 0.07379, saving model to my_unet.h5\n",
            "34/34 [==============================] - 7s 215ms/step - loss: 0.0764 - acc: 0.9703 - jaccard_iou: 0.7995 - jaccard_F1: 0.8883 - avg_precision: 0.8863 - val_loss: 0.0738 - val_acc: 0.9699 - val_jaccard_iou: 0.8107 - val_jaccard_F1: 0.8952 - val_avg_precision: 0.9052\n",
            "Epoch 27/50\n",
            "34/34 [==============================] - ETA: 0s - loss: 0.0791 - acc: 0.9693 - jaccard_iou: 0.7957 - jaccard_F1: 0.8859 - avg_precision: 0.8834\n",
            "Epoch 27: val_loss did not improve from 0.07379\n",
            "34/34 [==============================] - 7s 206ms/step - loss: 0.0791 - acc: 0.9693 - jaccard_iou: 0.7957 - jaccard_F1: 0.8859 - avg_precision: 0.8834 - val_loss: 0.0806 - val_acc: 0.9681 - val_jaccard_iou: 0.7944 - val_jaccard_F1: 0.8852 - val_avg_precision: 0.9213\n",
            "Epoch 28/50\n",
            "34/34 [==============================] - ETA: 0s - loss: 0.0776 - acc: 0.9698 - jaccard_iou: 0.7959 - jaccard_F1: 0.8860 - avg_precision: 0.8872\n",
            "Epoch 28: val_loss did not improve from 0.07379\n",
            "34/34 [==============================] - 7s 206ms/step - loss: 0.0776 - acc: 0.9698 - jaccard_iou: 0.7959 - jaccard_F1: 0.8860 - avg_precision: 0.8872 - val_loss: 0.0754 - val_acc: 0.9699 - val_jaccard_iou: 0.8000 - val_jaccard_F1: 0.8887 - val_avg_precision: 0.9086\n",
            "Epoch 29/50\n",
            "34/34 [==============================] - ETA: 0s - loss: 0.0762 - acc: 0.9704 - jaccard_iou: 0.7984 - jaccard_F1: 0.8876 - avg_precision: 0.8864\n",
            "Epoch 29: val_loss improved from 0.07379 to 0.07230, saving model to my_unet.h5\n",
            "34/34 [==============================] - 7s 217ms/step - loss: 0.0762 - acc: 0.9704 - jaccard_iou: 0.7984 - jaccard_F1: 0.8876 - avg_precision: 0.8864 - val_loss: 0.0723 - val_acc: 0.9705 - val_jaccard_iou: 0.8185 - val_jaccard_F1: 0.9001 - val_avg_precision: 0.8885\n",
            "Epoch 30/50\n",
            "34/34 [==============================] - ETA: 0s - loss: 0.0769 - acc: 0.9704 - jaccard_iou: 0.8044 - jaccard_F1: 0.8912 - avg_precision: 0.8920\n",
            "Epoch 30: val_loss improved from 0.07230 to 0.07099, saving model to my_unet.h5\n",
            "34/34 [==============================] - 7s 216ms/step - loss: 0.0769 - acc: 0.9704 - jaccard_iou: 0.8044 - jaccard_F1: 0.8912 - avg_precision: 0.8920 - val_loss: 0.0710 - val_acc: 0.9708 - val_jaccard_iou: 0.8086 - val_jaccard_F1: 0.8940 - val_avg_precision: 0.8921\n",
            "Epoch 31/50\n",
            "34/34 [==============================] - ETA: 0s - loss: 0.0745 - acc: 0.9706 - jaccard_iou: 0.8016 - jaccard_F1: 0.8895 - avg_precision: 0.8865\n",
            "Epoch 31: val_loss did not improve from 0.07099\n",
            "34/34 [==============================] - 7s 206ms/step - loss: 0.0745 - acc: 0.9706 - jaccard_iou: 0.8016 - jaccard_F1: 0.8895 - avg_precision: 0.8865 - val_loss: 0.0716 - val_acc: 0.9712 - val_jaccard_iou: 0.8142 - val_jaccard_F1: 0.8974 - val_avg_precision: 0.9053\n",
            "Epoch 32/50\n",
            "34/34 [==============================] - ETA: 0s - loss: 0.0826 - acc: 0.9682 - jaccard_iou: 0.7905 - jaccard_F1: 0.8825 - avg_precision: 0.8810\n",
            "Epoch 32: val_loss did not improve from 0.07099\n",
            "34/34 [==============================] - 7s 206ms/step - loss: 0.0826 - acc: 0.9682 - jaccard_iou: 0.7905 - jaccard_F1: 0.8825 - avg_precision: 0.8810 - val_loss: 0.1261 - val_acc: 0.9531 - val_jaccard_iou: 0.6871 - val_jaccard_F1: 0.8142 - val_avg_precision: 0.7346\n",
            "Epoch 33/50\n",
            "34/34 [==============================] - ETA: 0s - loss: 0.0786 - acc: 0.9701 - jaccard_iou: 0.7924 - jaccard_F1: 0.8837 - avg_precision: 0.8829\n",
            "Epoch 33: val_loss did not improve from 0.07099\n",
            "34/34 [==============================] - 7s 207ms/step - loss: 0.0786 - acc: 0.9701 - jaccard_iou: 0.7924 - jaccard_F1: 0.8837 - avg_precision: 0.8829 - val_loss: 0.0740 - val_acc: 0.9701 - val_jaccard_iou: 0.8054 - val_jaccard_F1: 0.8920 - val_avg_precision: 0.9134\n",
            "Epoch 34/50\n",
            "34/34 [==============================] - ETA: 0s - loss: 0.0766 - acc: 0.9703 - jaccard_iou: 0.7994 - jaccard_F1: 0.8881 - avg_precision: 0.8912\n",
            "Epoch 34: val_loss did not improve from 0.07099\n",
            "34/34 [==============================] - 7s 207ms/step - loss: 0.0766 - acc: 0.9703 - jaccard_iou: 0.7994 - jaccard_F1: 0.8881 - avg_precision: 0.8912 - val_loss: 0.0756 - val_acc: 0.9697 - val_jaccard_iou: 0.8115 - val_jaccard_F1: 0.8958 - val_avg_precision: 0.9141\n",
            "Epoch 35/50\n",
            "34/34 [==============================] - ETA: 0s - loss: 0.0759 - acc: 0.9703 - jaccard_iou: 0.8013 - jaccard_F1: 0.8894 - avg_precision: 0.8878\n",
            "Epoch 35: val_loss did not improve from 0.07099\n",
            "34/34 [==============================] - 7s 207ms/step - loss: 0.0759 - acc: 0.9703 - jaccard_iou: 0.8013 - jaccard_F1: 0.8894 - avg_precision: 0.8878 - val_loss: 0.0795 - val_acc: 0.9694 - val_jaccard_iou: 0.8129 - val_jaccard_F1: 0.8966 - val_avg_precision: 0.9296\n",
            "Epoch 36/50\n",
            "34/34 [==============================] - ETA: 0s - loss: 0.0744 - acc: 0.9709 - jaccard_iou: 0.8032 - jaccard_F1: 0.8905 - avg_precision: 0.8897\n",
            "Epoch 36: val_loss did not improve from 0.07099\n",
            "34/34 [==============================] - 7s 207ms/step - loss: 0.0744 - acc: 0.9709 - jaccard_iou: 0.8032 - jaccard_F1: 0.8905 - avg_precision: 0.8897 - val_loss: 0.0712 - val_acc: 0.9714 - val_jaccard_iou: 0.8238 - val_jaccard_F1: 0.9032 - val_avg_precision: 0.9119\n",
            "Epoch 37/50\n",
            "34/34 [==============================] - ETA: 0s - loss: 0.0737 - acc: 0.9711 - jaccard_iou: 0.8072 - jaccard_F1: 0.8931 - avg_precision: 0.8914\n",
            "Epoch 37: val_loss did not improve from 0.07099\n",
            "34/34 [==============================] - 7s 206ms/step - loss: 0.0737 - acc: 0.9711 - jaccard_iou: 0.8072 - jaccard_F1: 0.8931 - avg_precision: 0.8914 - val_loss: 0.0818 - val_acc: 0.9691 - val_jaccard_iou: 0.8134 - val_jaccard_F1: 0.8968 - val_avg_precision: 0.9314\n",
            "Epoch 38/50\n",
            "34/34 [==============================] - ETA: 0s - loss: 0.0782 - acc: 0.9699 - jaccard_iou: 0.7999 - jaccard_F1: 0.8885 - avg_precision: 0.8897\n",
            "Epoch 38: val_loss did not improve from 0.07099\n",
            "34/34 [==============================] - 7s 207ms/step - loss: 0.0782 - acc: 0.9699 - jaccard_iou: 0.7999 - jaccard_F1: 0.8885 - avg_precision: 0.8897 - val_loss: 0.0776 - val_acc: 0.9692 - val_jaccard_iou: 0.7810 - val_jaccard_F1: 0.8769 - val_avg_precision: 0.8506\n",
            "Epoch 38: early stopping\n"
          ]
        }
      ]
    },
    {
      "cell_type": "code",
      "source": [
        "from tqdm import tqdm\n",
        "model = tf.keras.models.load_model(\"my_unet.h5\", custom_objects={'jaccard_iou':jaccard_iou,\n",
        "                                                                 'jaccard_F1':jaccard_F1,\n",
        "                                                                 'avg_precision':avg_precision})"
      ],
      "metadata": {
        "id": "gW42s6GbQNv9"
      },
      "execution_count": 17,
      "outputs": []
    },
    {
      "cell_type": "code",
      "source": [
        "idx = random.randint(0, len(X_train))\n",
        "\n",
        "preds_train = model.predict(X_train, verbose=1)\n",
        "preds_val = model.predict(X_validation, verbose=1)\n",
        "preds_test = model.predict(X_test, verbose=1)"
      ],
      "metadata": {
        "colab": {
          "base_uri": "https://localhost:8080/"
        },
        "id": "Nekgfvu7QUAa",
        "outputId": "209dc068-dd5f-4869-98cb-b2d95e509270"
      },
      "execution_count": 18,
      "outputs": [
        {
          "output_type": "stream",
          "name": "stdout",
          "text": [
            "19/19 [==============================] - 7s 218ms/step\n",
            "3/3 [==============================] - 1s 615ms/step\n",
            "3/3 [==============================] - 1s 509ms/step\n"
          ]
        }
      ]
    },
    {
      "cell_type": "code",
      "source": [
        "preds_train_t = (preds_train>0.5).astype(np.uint8)\n",
        "preds_val_t = (preds_val>0.5).astype(np.uint8)\n",
        "preds_test_t = (preds_test>0.5).astype(np.uint8)"
      ],
      "metadata": {
        "id": "UEO8QoOUQVaD"
      },
      "execution_count": 19,
      "outputs": []
    },
    {
      "cell_type": "code",
      "source": [
        "intersection=np.logical_and(y_validation, preds_val_t)\n",
        "union=np.logical_or(y_validation, preds_val_t)\n",
        "iou_score = np.sum(intersection)/np.sum(union)\n",
        "print(iou_score)"
      ],
      "metadata": {
        "colab": {
          "base_uri": "https://localhost:8080/"
        },
        "id": "AN_AoikHQXs6",
        "outputId": "5b8bc05a-57ec-41ad-caba-6551d9e51285"
      },
      "execution_count": 20,
      "outputs": [
        {
          "output_type": "stream",
          "name": "stdout",
          "text": [
            "0.8888674962052862\n"
          ]
        }
      ]
    },
    {
      "cell_type": "code",
      "source": [
        "intersection=np.logical_and(y_validation, preds_val_t)\n",
        "precision = np.sum(intersection)/np.sum(preds_val_t)\n",
        "print(precision)"
      ],
      "metadata": {
        "colab": {
          "base_uri": "https://localhost:8080/"
        },
        "id": "bLMLDW8uQZAs",
        "outputId": "1fac16bb-c28d-49a0-f13a-daa035baf8b5"
      },
      "execution_count": 22,
      "outputs": [
        {
          "output_type": "stream",
          "name": "stdout",
          "text": [
            "0.941387633549415\n"
          ]
        }
      ]
    },
    {
      "cell_type": "code",
      "source": [
        "ix = random.randint(0, len(preds_test_t))\n",
        "imshow(X_test[ix])\n",
        "plt.title(\"Image\")\n",
        "plt.show()\n",
        "plt.imshow(np.squeeze(preds_test_t[ix]))\n",
        "plt.title(\"Predicted mask\")\n",
        "plt.show()"
      ],
      "metadata": {
        "colab": {
          "base_uri": "https://localhost:8080/",
          "height": 574
        },
        "id": "iEm9EiM7Qaj2",
        "outputId": "b71bb4c8-5525-4409-954f-3be1f0c64052"
      },
      "execution_count": 23,
      "outputs": [
        {
          "output_type": "display_data",
          "data": {
            "text/plain": [
              "<Figure size 432x288 with 1 Axes>"
            ],
            "image/png": "[encoded data removed]"
          },
          "metadata": {
            "needs_background": "light"
          }
        },
        {
          "output_type": "display_data",
          "data": {
            "text/plain": [
              "<Figure size 432x288 with 1 Axes>"
            ],
            "image/png": "[encoded data removed]"
          },
          "metadata": {
            "needs_background": "light"
          }
        }
      ]
    },
    {
      "cell_type": "code",
      "source": [
        "ix = random.randint(0, len(preds_train_t))\n",
        "imshow(X_train[ix])\n",
        "plt.title(\"Image\")\n",
        "plt.show()\n",
        "plt.imshow(np.squeeze(y_train[ix]))\n",
        "plt.title(\"True mask\")\n",
        "plt.show()\n",
        "plt.imshow(np.squeeze(preds_train_t[ix]))\n",
        "plt.title(\"Predicted mask\")\n",
        "plt.show()"
      ],
      "metadata": {
        "colab": {
          "base_uri": "https://localhost:8080/",
          "height": 838
        },
        "id": "gvUol60bQc2o",
        "outputId": "70c1cd80-6c74-4507-cf7e-1cea1766a084"
      },
      "execution_count": 24,
      "outputs": [
        {
          "output_type": "display_data",
          "data": {
            "text/plain": [
              "<Figure size 432x288 with 1 Axes>"
            ],
            "image/png": "[encoded data removed]"
          },
          "metadata": {
            "needs_background": "light"
          }
        },
        {
          "output_type": "display_data",
          "data": {
            "text/plain": [
              "<Figure size 432x288 with 1 Axes>"
            ],
            "image/png": "[encoded data removed]"
          },
          "metadata": {
            "needs_background": "light"
          }
        },
        {
          "output_type": "display_data",
          "data": {
            "text/plain": [
              "<Figure size 432x288 with 1 Axes>"
            ],
            "image/png": "[encoded data removed]"
          },
          "metadata": {
            "needs_background": "light"
          }
        }
      ]
    },
    {
      "cell_type": "code",
      "source": [],
      "metadata": {
        "id": "3WRq20kLQiKK"
      },
      "execution_count": null,
      "outputs": []
    }
  ],
  "metadata": {
    "accelerator": "GPU",
    "colab": {
      "provenance": []
    },
    "gpuClass": "standard",
    "kernelspec": {
      "display_name": "Python 3",
      "name": "python3"
    },
    "language_info": {
      "name": "python"
    }
  },
  "nbformat": 4,
  "nbformat_minor": 0
}